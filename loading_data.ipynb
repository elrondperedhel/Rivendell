{
 "cells": [
  {
   "cell_type": "code",
   "execution_count": null,
   "metadata": {
    "deletable": false,
    "jupyter": {
     "source_hidden": true
    },
    "tags": []
   },
   "outputs": [],
   "source": [
    "# Loading data\n",
    "\n",
    "See the learning materials associated with this exercise <a href=\"https://applied-language-technology.mooc.fi/html/notebooks/part_ii/01_basic_text_processing.html\" target=\"blank_\">here</a>.\n",
    "\n",
    "For instructions on how to use TestMyCode (TMC) to test your code and submit it to the server, see <a href=\"https://applied-language-technology.mooc.fi/html/tmc.html\" target=\"blank_\">here</a>.\n",
    "\n",
    "Remember to save this Notebook before testing your code. Press <kbd>Control</kbd>+<kbd>s</kbd> or select the *File* menu and click *Save*.\n",
    "\n",
    "**The maximum number of points for this exercise is 20.**"
   ]
  },
  {
   "cell_type": "code",
   "execution_count": null,
   "metadata": {
    "deletable": false
   },
   "outputs": [],
   "source": [
    "## 1. Load a text file into Python (7 points)\n",
    "\n",
    "The exercise directory contains directory named `txt`, which in turn contains a plain text file named `WP_1990-08-10-25A.txt`.\n",
    "\n",
    "Use the `open()` function to load this file into Python in combination with the `with` statement. Assign the file that is opened under the variable `f`.\n",
    "\n",
    "Remember to pass the `encoding` argument to the `open()` function to declare the file encoding. Use UTF-8 encoding.\n",
    "\n",
    "Read the file contents and assign the result into a variable named `text`."
   ]
  },
  {
   "cell_type": "code",
   "execution_count": 12,
   "metadata": {
    "deletable": false,
    "test": "load_file"
   },
   "outputs": [],
   "source": [
    "# Write your answer below this line\n",
    "with open(file='txt/WP_1990-08-10-25A.txt', mode='r', encoding='utf-8') as file: \n",
    "    text = file.read()\n",
    "    \n"
   ]
  },
  {
   "cell_type": "markdown",
   "metadata": {
    "deletable": false
   },
   "source": [
    "Run the following cell to print out the contents of the text file."
   ]
  },
  {
   "cell_type": "code",
   "execution_count": 13,
   "metadata": {
    "deletable": false
   },
   "outputs": [
    {
     "name": "stdout",
     "output_type": "stream",
     "text": [
      "﻿*We Don’t Stand for Bullies': Diverse Voices in Area Back Action Against Iraq\n",
      "Mary Jordan Washington Post Staff Writer\n",
      "The Washington Post (1974-Current file); Aug 10, 1990;\n",
      "ProQuest Historical Newspapers: The Washington Post\n",
      "\n",
      "Vetoran Stuart Hoik, 06, aaya of Saddam Hussein, “Wo have got to atop tfais madman.\"\n",
      "\n",
      "Diverse Voices in Area Back Action Against Iraq\n",
      "By Mary Jordan\n",
      "WaihifiRton Pool Stiff Writer\n",
      "   It’s not rising gasoline prices or even the threat of a recession, it’s that Iraq’s Saddam Hussein has got to be stopped.\n",
      "   “You're darn right we lad to do it,” said Stuart Belk, 65, a retired brick-, layer from Alexandria, responding to the deployment of U.S. warplanes and troops to the Middle Cast.\n",
      "   “The worst word in the world is ‘dictator,’ and that’s what Saddam Hussein is. What do you think the United States is for, if not to help countries in trouble? We have got to stop this madman,\" Belk said.\n",
      "   Forty-five years and countless reflections since a land mine took his leg and almost his life in Hitler’s Germany, Belk said there are still certain things worth risking lives for.\n",
      "   “Oil is not one of them,” he said, pounding his fist on his wheelchair outside the Veterans Administration’s nursing home in Northwest Washington. \"The reason we should be over there is because we don’t stand for dictators. We don’t stand for bullies who gobble up other countries.\"\n",
      "   City and suburban residents, young and old, wealthy and poor who were interviewed supported the U.S. actions. Of the 40 or so interviewed, from a vice president of Smithy Braedon Co., a real estate brokerage firm, to a District\n",
      "Blocked due to copyright See full page image or microfilm.\n",
      "\t“MICHAELS. DELINE\n",
      "“all the guys... are backing Bush”\n",
      "maintenance worker, from people pumping gas in Fairfax City to those sitting at lunch counters in the District's Shepherd Park, there was a rare unanimity of opinion.\n",
      "   They said they were willing to conserve oh gas, even pay a higher price at the pump,' so long as oil companies weren't pocketing extra profits.\n",
      "   No one wants thousands of American men and women in a war zone, they said, yet they would understand if more were needed. Deep in their gut, they said, they knew the U.S. commitment in the Persian Gulf will be long and expensive.\n",
      "   “I wish we had done something in the past” to thwart Saddam Hussein and his million-strong army, said Sarah Cox, a Fairfax County management analyst who lives in McLean.\n",
      "   As she pumped $24.73 worth of Chevron gas into her blue Caprice Classic, Cox said “economic reasons alone” should not justify the U.S. armed forces \"charging off like a light brigade.”\n",
      "   While she regretted that the United States “sat on its hands until the only solution was a military one,\" Cox said she understood the need now to stop Hussein.\t,\n",
      "   The sudden invasion of Kuwait eight days ago reminded many how quickly the landscape can change: Saddam Hus- Sco VOICES, A26, Col. 6\n",
      "“Ws have a responsibility to do whatever it takes to get Iraq out of Kuwait.”\n",
      "— Michael S. DeLlne\n",
      "Reproduced with permission of the copyright owner. Further reproduction prohibited without permission.\n",
      "\n",
      "OT CTRINA QUN0-T1IC WASHIKOTON POST\n",
      "Gerald Dunn, a federal government employee, says higher costs at the pump are a small price to pay to defend a “country under attack*\"\n",
      "Area Residents Willing: To Conserve Gasoline ~\n",
      "VOICES, From A25\n",
      "sein, unknown or confused with Jordan's King Hussein days ago, is now denounced by little children, one mother said; Saudi Arabia was an oil-rich OPEC country to be wary of, not an ally to defend; Iran was more evil than Iraq, not the other way around; and world news was upbeat, as communism continued to collapse.\t,\n",
      "   Now, George Washington University business student Michael S. DeLine said, Americans feel the pressure of being a superpower. “We have a responsibility to do whatever it takes to get Iraq out of Kuwait.”\n",
      "   Even if it means a draft? he is asked.\n",
      "   “I don't think it will come to that,” but if called, DeLine, 21, said those his age would see it as their duty.\n",
      "   \"We can’t let some little country wreck the world economy,\" DeLine said. \"All the guys\n",
      "I talked to in the [Sigma Phi Epsilon] fraternity are totally for it; they’re backing Bush. It’s not just that Hussein took over another country. He took over resources of world importance.\"\n",
      "   “If this continues, it’s going to have a dramatic impact on the way we use our automobiles,” said Douglas Fischer, a physical therapist in Silver Spring, who paid 15 cents more a gallon for gasoline on Wednesday than he did last week.\n",
      "   “I wouldn’t want to be one of the guys readying for combat,” Fischer, 26, said. \"And I wouldn’t want us over there just because of gas prices. War is never a good idea, but we have got to show support for Saudi Arabia.”\n",
      "   While area residents interviewed support the U.S. role as democratic peace-keeper, many said they worry about the costs of that venture. The idea of combat in the deserts of the Middle East is of particular concern, especially to those who fought in previous wars.\n",
      "   \"Saudi Arabia and other countries over the'e must make it vary clear—and not in some back room—that they want us over there and that they are going to help us,” said Clyde Wray, 44, who served as a private in the Army’s 199 Light Infantry Brigade in Vietnam.\n",
      "   “We cannot do this alone, again. Hussein's men know the area; he’s got [poisonous nerve] gas,” Wray said.\n",
      "   “He could blow one of our ships up in the Gulf in a second,\" said 74-year-old District resident Willie J. Waller. “There are narrow straits, mountains and deserts. It's a dangerous place.”\n",
      "   Wray said he’s had a feeling tliat the next war would erupt in the Middle East because \"there\n",
      "is a lot of hate and oil over,, there.”\t. „„„\n",
      "   “Yes, Bush did the right thing,” the Vietnam veteran;'; said. \"But what I’m worried ’ about now is the next step^I__ hope it’s not a misstep. We can-~ not make the mistake again of\" taking half-steps, half-\"' measures.”\t.\n",
      "   \"It’s not a small thing to keep\" up the image of the U.S. as sAiv-\"' ior,” said Richard Rogers, a mak\" chine operator in the District/\" \"Isn’t that how we see oi)f.-.f selves? As peace-keeper? If yflS’ t didn't do that, what would be? Just another country.” ..\n",
      "   Rogers, 42, said that the U.§/'.’ image as guardian of democracy .., also works as a deterrent to ter;;, rorists.\n",
      "   If the United States and all its; might wasn't viewed as looking- out for smaller countries’ inter- ; ests, Rogers said, \"things could get completely out of hand.;- Anybody could do anything/; Terrorism would spread like a cancer.”\t,\n",
      "   Poor people may be the first'-'* to feel repercussions from Iraq's invasion of Kuwait. Al->.\" ready, the price of a tankful of gasoline has increased a dollar— or two at many pumps in the region.\n",
      "   \"This is going to hurt the. poor man and the U.S. car tor.... dustry,” Rogers predicted.\n",
      "   “Even if they ration gas, ;lt won’t matter to rich people*”...;, said Belk, from the VA nursing-,:.’ home. “They will buy it on the black market. But if you don't,7 have much money to begin with;-’; it’s going to make a difference/*—.\n",
      "   Gerald Dunn, a federal gov*” - eminent employee from Alex-* 1 andria, said that he believed'\"\" that most middle- and upper-in-\"“ come families wouldn’t even no-.; — tice the increase in gas prices.-'; Besides, he said, it was a small -price for them to pay while the nation defended a \"country un-' der attack.”\t’’\n",
      "   Saddam Hussein, alternatively described as a madman, bully-”\" and dictator, drew passionate'\"''. repudiation.\n",
      "   \"No way can we let him get' away with this,” said Robert Stout, a vice president at Smithy Braedon, referring to . the Iraqi president’s decision to.... annex Kuwait.\t,\n",
      "   “Saddam Hussein really,,,,.* scares me,\" said Falls Church,,,, music instructor Joseph Moq-, ton. \"I fear we have a madmaq,,,„; out there and he is not going to;;,* stop at Kuwait. These days, it takes is a nuclear weapon; small enough to fit in a suit-.;.; case.”\t—\n",
      "   ”1 just hope they stop him — quick,” said Viola Anderson, a\"-\"\n",
      "retired hotel employee in tlie\t\n",
      "District. \"I really feel things could turn terrible, if we donfr stop him soon.”\t>•'«■«\n",
      "Reproduced with permission of the copyright owner. Further reproduction prohibited without permission.\n",
      "\n"
     ]
    }
   ],
   "source": [
    "print(text)"
   ]
  },
  {
   "cell_type": "markdown",
   "metadata": {
    "deletable": false
   },
   "source": [
    "## 2. Replace parts of the text (4 points)\n",
    "\n",
    "As you can see, the output of optical character recognition (OCR) leaves much to be hoped for, as the text is littered with errors.\n",
    "\n",
    "Let's start with something simple. The text contains several recurring sentences inserted by the database from which the text was retrieved:\n",
    "\n",
    "    Reproduced with permission of the copyright owner. Further reproduction prohibited without permission.\n",
    "    \n",
    "Create a variable named `copyright` and assign the sentences above under this variable as a string object."
   ]
  },
  {
   "cell_type": "code",
   "execution_count": 14,
   "metadata": {
    "deletable": false,
    "test": "replace_text"
   },
   "outputs": [],
   "source": [
    "# Write your answer below this line\n",
    "copyright = 'Reproduced with permission of the copyright owner. Further reproduction prohibited without permission.'\n"
   ]
  },
  {
   "cell_type": "markdown",
   "metadata": {
    "deletable": false
   },
   "source": [
    "Next, use the `replace()` method to replace instances of the string stored under the variable `copyright` with an *empty string* in the string variable `text`.\n",
    "\n",
    "Assign the result to `text`, that is, update the variable."
   ]
  },
  {
   "cell_type": "code",
   "execution_count": 16,
   "metadata": {
    "deletable": false,
    "test": "replace_value"
   },
   "outputs": [],
   "source": [
    "# Write your answer below this line\n",
    "text = text.replace('copyright', '')\n"
   ]
  },
  {
   "cell_type": "markdown",
   "metadata": {
    "deletable": false
   },
   "source": [
    "## 3. Define patterns using tuples in a list (4 points)\n",
    "\n",
    "Let's attempt to clean some of the clutter in `text` by defining sequences of characters that we want to replace.\n",
    "\n",
    "Create a *list* named `pipeline`.\n",
    "\n",
    "Populate the list with *tuples* that contain two *strings*: (1) the string to replace and (2) its replacement.\n",
    "\n",
    "Remember that tuples are surrounded by parentheses, and that the values of a tuple are separated by a comma.\n",
    "\n",
    "Use tuples to define patterns (pairs of strings) that replace the following strings with *empty strings* (`\"\"`):\n",
    "\n",
    "    \"-, \"\n",
    "    \",,,,\"\n",
    "    \n",
    "**Note that double quotation marks have been already added around the strings!**"
   ]
  },
  {
   "cell_type": "code",
   "execution_count": 17,
   "metadata": {
    "deletable": false,
    "test": "define_pattern"
   },
   "outputs": [],
   "source": [
    "# Write your answer below this line\n",
    "pipeline = [(\"-, \", \"\"),(\",,,,\", \"\")]"
   ]
  },
  {
   "cell_type": "code",
   "execution_count": null,
   "metadata": {
    "deletable": false
   },
   "outputs": [],
   "source": [
    "## 4. Loop over the list and replace patterns (5 points)\n",
    "\n",
    "Write a `for` loop that iterates over the list stored under the variable `pipeline`.\n",
    "\n",
    "Remember the syntax for a `for` loop:\n",
    "\n",
    "```\n",
    "for item in list:\n",
    "\n",
    "    do stuff\n",
    "```\n",
    "\n",
    "Remember to indent the line following the loop declaration (`for ...`). Also remember that while looping over each tuple in the list, you need to retrieve both items (strings) in each tuple. Thus you need two \"items\" before the `in` statement when declaring the `for` loop.\n",
    "\n",
    "During each loop, use the `replace()` method to replace the first item with the second item in the text stored under the variable `text`.\n",
    "\n",
    "Store the result under the variable `text`, that is, update the variable."
   ]
  },
  {
   "cell_type": "code",
   "execution_count": 20,
   "metadata": {
    "deletable": false,
    "test": "apply_pattern"
   },
   "outputs": [],
   "source": [
    "# Write your answer below this line\n",
    "for old, new in pipeline: \n",
    "    text = text.replace(old, new)\n"
   ]
  }
 ],
 "metadata": {
  "celltoolbar": "Edit Metadata",
  "kernelspec": {
   "display_name": "Python 3 (ipykernel)",
   "language": "python",
   "name": "python3"
  },
  "language_info": {
   "codemirror_mode": {
    "name": "ipython",
    "version": 3
   },
   "file_extension": ".py",
   "mimetype": "text/x-python",
   "name": "python",
   "nbconvert_exporter": "python",
   "pygments_lexer": "ipython3",
   "version": "3.9.7"
  }
 },
 "nbformat": 4,
 "nbformat_minor": 4
}
